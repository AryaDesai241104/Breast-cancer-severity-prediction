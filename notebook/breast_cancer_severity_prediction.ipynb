{
 "cells": [
  {
   "cell_type": "markdown",
   "id": "5b90246d-5ab5-4385-9033-75263eaaac68",
   "metadata": {},
   "source": [
    "## BREAST CANCER SEVERITY PREDICTION"
   ]
  },
  {
   "cell_type": "markdown",
   "id": "a9257b99-8e59-419c-8c0c-5004d5ea0378",
   "metadata": {},
   "source": [
    "### Importing The Libraris"
   ]
  },
  {
   "cell_type": "code",
   "execution_count": 3,
   "id": "e005d875-f90b-417a-ba6f-3da527c084a9",
   "metadata": {},
   "outputs": [],
   "source": [
    "import pandas as pd\n",
    "import numpy as np\n",
    "import matplotlib.pyplot as plt\n",
    "import seaborn as sns"
   ]
  },
  {
   "cell_type": "markdown",
   "id": "ba384b95-6446-4ec2-b218-0dc81429b88c",
   "metadata": {},
   "source": [
    "### Importing the Dataset"
   ]
  },
  {
   "cell_type": "code",
   "execution_count": 5,
   "id": "25bc47fe-be7c-47b7-b38b-34649642d921",
   "metadata": {},
   "outputs": [],
   "source": [
    "headers = ['Sample code number','Clump Thickness','Uniformity of Cell Size','Uniformity of Cell Shape','Marginal Adhesion',\n",
    "           'Single Epithelial Cell Size','Bare Nuclei','Bland Chromatin','Normal Nucleoli','Mitoses','Class']\n",
    "df  = pd.read_csv('../dataset/breast-cancer-wisconsin.csv', names = headers)"
   ]
  },
  {
   "cell_type": "markdown",
   "id": "6ff908f3-e5bc-48af-bba9-b91d3fd79fdf",
   "metadata": {},
   "source": [
    "### Understanding the Data"
   ]
  },
  {
   "cell_type": "code",
   "execution_count": 7,
   "id": "967655ba-37dc-495f-a5de-5b5825027b58",
   "metadata": {},
   "outputs": [
    {
     "name": "stdout",
     "output_type": "stream",
     "text": [
      "Initial Data Overview:\n",
      "   Sample code number  Clump Thickness  Uniformity of Cell Size  \\\n",
      "0             1000025                5                        1   \n",
      "1             1002945                5                        4   \n",
      "2             1015425                3                        1   \n",
      "3             1016277                6                        8   \n",
      "4             1017023                4                        1   \n",
      "\n",
      "   Uniformity of Cell Shape  Marginal Adhesion  Single Epithelial Cell Size  \\\n",
      "0                         1                  1                            2   \n",
      "1                         4                  5                            7   \n",
      "2                         1                  1                            2   \n",
      "3                         8                  1                            3   \n",
      "4                         1                  3                            2   \n",
      "\n",
      "  Bare Nuclei  Bland Chromatin  Normal Nucleoli  Mitoses  Class  \n",
      "0           1                3                1        1      2  \n",
      "1          10                3                2        1      2  \n",
      "2           2                3                1        1      2  \n",
      "3           4                3                7        1      2  \n",
      "4           1                3                1        1      2  \n",
      "\n",
      "Data Info:\n",
      "<class 'pandas.core.frame.DataFrame'>\n",
      "RangeIndex: 699 entries, 0 to 698\n",
      "Data columns (total 11 columns):\n",
      " #   Column                       Non-Null Count  Dtype \n",
      "---  ------                       --------------  ----- \n",
      " 0   Sample code number           699 non-null    int64 \n",
      " 1   Clump Thickness              699 non-null    int64 \n",
      " 2   Uniformity of Cell Size      699 non-null    int64 \n",
      " 3   Uniformity of Cell Shape     699 non-null    int64 \n",
      " 4   Marginal Adhesion            699 non-null    int64 \n",
      " 5   Single Epithelial Cell Size  699 non-null    int64 \n",
      " 6   Bare Nuclei                  699 non-null    object\n",
      " 7   Bland Chromatin              699 non-null    int64 \n",
      " 8   Normal Nucleoli              699 non-null    int64 \n",
      " 9   Mitoses                      699 non-null    int64 \n",
      " 10  Class                        699 non-null    int64 \n",
      "dtypes: int64(10), object(1)\n",
      "memory usage: 60.2+ KB\n",
      "None\n"
     ]
    }
   ],
   "source": [
    "print(\"Initial Data Overview:\")\n",
    "print(df.head())\n",
    "print(\"\\nData Info:\")\n",
    "print(df.info())"
   ]
  },
  {
   "cell_type": "markdown",
   "id": "41fcf4d4-e11d-41d9-8ea9-4a07a54acd2d",
   "metadata": {},
   "source": [
    "### Data Cleaning"
   ]
  },
  {
   "cell_type": "code",
   "execution_count": 9,
   "id": "5643bf14-f7de-42d6-8f0f-b8093de58f38",
   "metadata": {},
   "outputs": [
    {
     "name": "stdout",
     "output_type": "stream",
     "text": [
      "\n",
      "Missing Values Before Cleaning:\n",
      "Sample code number              0\n",
      "Clump Thickness                 0\n",
      "Uniformity of Cell Size         0\n",
      "Uniformity of Cell Shape        0\n",
      "Marginal Adhesion               0\n",
      "Single Epithelial Cell Size     0\n",
      "Bare Nuclei                    16\n",
      "Bland Chromatin                 0\n",
      "Normal Nucleoli                 0\n",
      "Mitoses                         0\n",
      "Class                           0\n",
      "dtype: int64\n"
     ]
    }
   ],
   "source": [
    "print(\"\\nMissing Values Before Cleaning:\")\n",
    "df = df.replace('?', np.nan)\n",
    "print(df.isna().sum())"
   ]
  },
  {
   "cell_type": "code",
   "execution_count": 10,
   "id": "472335cf-c244-4b93-b991-e83c764302f0",
   "metadata": {},
   "outputs": [],
   "source": [
    "df['Bare Nuclei'] = pd.to_numeric(df['Bare Nuclei'], errors='coerce')"
   ]
  },
  {
   "cell_type": "code",
   "execution_count": 11,
   "id": "f3e554d7-f4eb-401a-b2ce-51a1b19be03f",
   "metadata": {},
   "outputs": [],
   "source": [
    "from sklearn.impute import SimpleImputer\n",
    "imputer = SimpleImputer(strategy='mean')\n",
    "df['Bare Nuclei'] = imputer.fit_transform(df[['Bare Nuclei']])"
   ]
  },
  {
   "cell_type": "code",
   "execution_count": 12,
   "id": "c17e6391-b585-47c2-b802-945a2693ba7d",
   "metadata": {},
   "outputs": [],
   "source": [
    "df['Bare Nuclei'] = df['Bare Nuclei'].astype('int64')"
   ]
  },
  {
   "cell_type": "code",
   "execution_count": 13,
   "id": "8d10f426-a584-4ae4-994e-40891d5e8563",
   "metadata": {},
   "outputs": [],
   "source": [
    "df.drop('Sample code number', axis=1, inplace=True)"
   ]
  },
  {
   "cell_type": "code",
   "execution_count": 14,
   "id": "14ba2229-b3fe-450b-ad19-f652f857a89e",
   "metadata": {},
   "outputs": [
    {
     "name": "stdout",
     "output_type": "stream",
     "text": [
      "\n",
      "Missing Values After Cleaning:\n",
      "Clump Thickness                0\n",
      "Uniformity of Cell Size        0\n",
      "Uniformity of Cell Shape       0\n",
      "Marginal Adhesion              0\n",
      "Single Epithelial Cell Size    0\n",
      "Bare Nuclei                    0\n",
      "Bland Chromatin                0\n",
      "Normal Nucleoli                0\n",
      "Mitoses                        0\n",
      "Class                          0\n",
      "dtype: int64\n",
      "\n",
      "Data Types After Cleaning:\n",
      "Clump Thickness                int64\n",
      "Uniformity of Cell Size        int64\n",
      "Uniformity of Cell Shape       int64\n",
      "Marginal Adhesion              int64\n",
      "Single Epithelial Cell Size    int64\n",
      "Bare Nuclei                    int64\n",
      "Bland Chromatin                int64\n",
      "Normal Nucleoli                int64\n",
      "Mitoses                        int64\n",
      "Class                          int64\n",
      "dtype: object\n"
     ]
    }
   ],
   "source": [
    "print(\"\\nMissing Values After Cleaning:\")\n",
    "print(df.isna().sum())\n",
    "print(\"\\nData Types After Cleaning:\")\n",
    "print(df.dtypes)"
   ]
  },
  {
   "cell_type": "markdown",
   "id": "ec1ec232-03bd-4149-9c37-601c9ed0709f",
   "metadata": {},
   "source": [
    "### Data Exploration"
   ]
  },
  {
   "cell_type": "markdown",
   "id": "844df179-6802-4b16-821f-62d1429b23d6",
   "metadata": {},
   "source": [
    "### Preparing Data for Modeling"
   ]
  },
  {
   "cell_type": "code",
   "execution_count": 17,
   "id": "dd8b182c-34b9-49aa-b045-20a2e4e079c0",
   "metadata": {},
   "outputs": [
    {
     "name": "stdout",
     "output_type": "stream",
     "text": [
      "     Clump Thickness  Uniformity of Cell Size  Uniformity of Cell Shape  \\\n",
      "0                  5                        1                         1   \n",
      "1                  5                        4                         4   \n",
      "2                  3                        1                         1   \n",
      "3                  6                        8                         8   \n",
      "4                  4                        1                         1   \n",
      "..               ...                      ...                       ...   \n",
      "694                3                        1                         1   \n",
      "695                2                        1                         1   \n",
      "696                5                       10                        10   \n",
      "697                4                        8                         6   \n",
      "698                4                        8                         8   \n",
      "\n",
      "     Marginal Adhesion  Single Epithelial Cell Size  Bare Nuclei  \\\n",
      "0                    1                            2            1   \n",
      "1                    5                            7           10   \n",
      "2                    1                            2            2   \n",
      "3                    1                            3            4   \n",
      "4                    3                            2            1   \n",
      "..                 ...                          ...          ...   \n",
      "694                  1                            3            2   \n",
      "695                  1                            2            1   \n",
      "696                  3                            7            3   \n",
      "697                  4                            3            4   \n",
      "698                  5                            4            5   \n",
      "\n",
      "     Bland Chromatin  Normal Nucleoli  Mitoses  \n",
      "0                  3                1        1  \n",
      "1                  3                2        1  \n",
      "2                  3                1        1  \n",
      "3                  3                7        1  \n",
      "4                  3                1        1  \n",
      "..               ...              ...      ...  \n",
      "694                1                1        1  \n",
      "695                1                1        1  \n",
      "696                8               10        2  \n",
      "697               10                6        1  \n",
      "698               10                4        1  \n",
      "\n",
      "[699 rows x 9 columns]\n",
      "\n",
      "\n",
      "0      2\n",
      "1      2\n",
      "2      2\n",
      "3      2\n",
      "4      2\n",
      "      ..\n",
      "694    2\n",
      "695    2\n",
      "696    4\n",
      "697    4\n",
      "698    4\n",
      "Name: Class, Length: 699, dtype: int64\n"
     ]
    }
   ],
   "source": [
    "X = df.iloc[:, :-1]\n",
    "y = df.iloc[:, -1]\n",
    "print(X)\n",
    "print('\\n')\n",
    "print(y)"
   ]
  },
  {
   "cell_type": "code",
   "execution_count": 18,
   "id": "0270a0ae-354b-436d-83fb-8fcb071ed931",
   "metadata": {},
   "outputs": [
    {
     "name": "stdout",
     "output_type": "stream",
     "text": [
      "\n",
      "Descriptive Statistics:\n",
      "       Clump Thickness  Uniformity of Cell Size  Uniformity of Cell Shape  \\\n",
      "count       699.000000               699.000000                699.000000   \n",
      "mean          4.417740                 3.134478                  3.207439   \n",
      "std           2.815741                 3.051459                  2.971913   \n",
      "min           1.000000                 1.000000                  1.000000   \n",
      "25%           2.000000                 1.000000                  1.000000   \n",
      "50%           4.000000                 1.000000                  1.000000   \n",
      "75%           6.000000                 5.000000                  5.000000   \n",
      "max          10.000000                10.000000                 10.000000   \n",
      "\n",
      "       Marginal Adhesion  Single Epithelial Cell Size  Bare Nuclei  \\\n",
      "count         699.000000                   699.000000   699.000000   \n",
      "mean            2.806867                     3.216023     3.532189   \n",
      "std             2.855379                     2.214300     3.602774   \n",
      "min             1.000000                     1.000000     1.000000   \n",
      "25%             1.000000                     2.000000     1.000000   \n",
      "50%             1.000000                     2.000000     1.000000   \n",
      "75%             4.000000                     4.000000     5.000000   \n",
      "max            10.000000                    10.000000    10.000000   \n",
      "\n",
      "       Bland Chromatin  Normal Nucleoli     Mitoses       Class  \n",
      "count       699.000000       699.000000  699.000000  699.000000  \n",
      "mean          3.437768         2.866953    1.589413    2.689557  \n",
      "std           2.438364         3.053634    1.715078    0.951273  \n",
      "min           1.000000         1.000000    1.000000    2.000000  \n",
      "25%           2.000000         1.000000    1.000000    2.000000  \n",
      "50%           3.000000         1.000000    1.000000    2.000000  \n",
      "75%           5.000000         4.000000    1.000000    4.000000  \n",
      "max          10.000000        10.000000   10.000000    4.000000  \n"
     ]
    }
   ],
   "source": [
    "print(\"\\nDescriptive Statistics:\")\n",
    "print(df.describe())"
   ]
  },
  {
   "cell_type": "code",
   "execution_count": 19,
   "id": "1b002cce-5715-4d4c-a9c9-a4501cbc7b77",
   "metadata": {},
   "outputs": [
    {
     "name": "stdout",
     "output_type": "stream",
     "text": [
      "\n",
      "Class Distribution:\n",
      "Class\n",
      "2    458\n",
      "4    241\n",
      "Name: count, dtype: int64\n"
     ]
    }
   ],
   "source": [
    "print(\"\\nClass Distribution:\")\n",
    "print(df['Class'].value_counts())"
   ]
  },
  {
   "cell_type": "code",
   "execution_count": 20,
   "id": "747e20fc-c0f2-4bba-8c34-33405d77d50e",
   "metadata": {},
   "outputs": [
    {
     "data": {
      "image/png": "[encoded data removed]",
      "text/plain": [
       "<Figure size 600x400 with 1 Axes>"
      ]
     },
     "metadata": {},
     "output_type": "display_data"
    }
   ],
   "source": [
    "plt.figure(figsize=(6,4))\n",
    "df['Class'].value_counts().plot.pie(autopct='%1.1f%%', \n",
    "                                  colors=['lightgreen', 'salmon'],\n",
    "                                  labels=['Benign (2)', 'Malignant (4)'])\n",
    "plt.title('Class Distribution')\n",
    "plt.ylabel('')\n",
    "plt.show()"
   ]
  },
  {
   "cell_type": "markdown",
   "id": "af437327-a881-4e50-9bd5-a1acf017833f",
   "metadata": {},
   "source": [
    "### Split data into training and test sets"
   ]
  },
  {
   "cell_type": "code",
   "execution_count": 22,
   "id": "07ef1133-3cfe-44f3-b86d-cd4d460ea4fd",
   "metadata": {},
   "outputs": [],
   "source": [
    "from sklearn.model_selection import train_test_split\n",
    "X_train, X_test, y_train, y_test = train_test_split(X, y, test_size=0.2, random_state=42)"
   ]
  },
  {
   "cell_type": "markdown",
   "id": "d7674781-b67f-4219-b669-d55911ebda42",
   "metadata": {},
   "source": [
    "### Training the logistic regression model on training set"
   ]
  },
  {
   "cell_type": "code",
   "execution_count": 24,
   "id": "7fa549ac-b9cf-4628-b18d-ef91aabd20de",
   "metadata": {},
   "outputs": [
    {
     "data": {
      "text/html": [
       "<style>#sk-container-id-1 {color: black;background-color: white;}#sk-container-id-1 pre{padding: 0;}#sk-container-id-1 div.sk-toggleable {background-color: white;}#sk-container-id-1 label.sk-toggleable__label {cursor: pointer;display: block;width: 100%;margin-bottom: 0;padding: 0.3em;box-sizing: border-box;text-align: center;}#sk-container-id-1 label.sk-toggleable__label-arrow:before {content: \"▸\";float: left;margin-right: 0.25em;color: #696969;}#sk-container-id-1 label.sk-toggleable__label-arrow:hover:before {color: black;}#sk-container-id-1 div.sk-estimator:hover label.sk-toggleable__label-arrow:before {color: black;}#sk-container-id-1 div.sk-toggleable__content {max-height: 0;max-width: 0;overflow: hidden;text-align: left;background-color: #f0f8ff;}#sk-container-id-1 div.sk-toggleable__content pre {margin: 0.2em;color: black;border-radius: 0.25em;background-color: #f0f8ff;}#sk-container-id-1 input.sk-toggleable__control:checked~div.sk-toggleable__content {max-height: 200px;max-width: 100%;overflow: auto;}#sk-container-id-1 input.sk-toggleable__control:checked~label.sk-toggleable__label-arrow:before {content: \"▾\";}#sk-container-id-1 div.sk-estimator input.sk-toggleable__control:checked~label.sk-toggleable__label {background-color: #d4ebff;}#sk-container-id-1 div.sk-label input.sk-toggleable__control:checked~label.sk-toggleable__label {background-color: #d4ebff;}#sk-container-id-1 input.sk-hidden--visually {border: 0;clip: rect(1px 1px 1px 1px);clip: rect(1px, 1px, 1px, 1px);height: 1px;margin: -1px;overflow: hidden;padding: 0;position: absolute;width: 1px;}#sk-container-id-1 div.sk-estimator {font-family: monospace;background-color: #f0f8ff;border: 1px dotted black;border-radius: 0.25em;box-sizing: border-box;margin-bottom: 0.5em;}#sk-container-id-1 div.sk-estimator:hover {background-color: #d4ebff;}#sk-container-id-1 div.sk-parallel-item::after {content: \"\";width: 100%;border-bottom: 1px solid gray;flex-grow: 1;}#sk-container-id-1 div.sk-label:hover label.sk-toggleable__label {background-color: #d4ebff;}#sk-container-id-1 div.sk-serial::before {content: \"\";position: absolute;border-left: 1px solid gray;box-sizing: border-box;top: 0;bottom: 0;left: 50%;z-index: 0;}#sk-container-id-1 div.sk-serial {display: flex;flex-direction: column;align-items: center;background-color: white;padding-right: 0.2em;padding-left: 0.2em;position: relative;}#sk-container-id-1 div.sk-item {position: relative;z-index: 1;}#sk-container-id-1 div.sk-parallel {display: flex;align-items: stretch;justify-content: center;background-color: white;position: relative;}#sk-container-id-1 div.sk-item::before, #sk-container-id-1 div.sk-parallel-item::before {content: \"\";position: absolute;border-left: 1px solid gray;box-sizing: border-box;top: 0;bottom: 0;left: 50%;z-index: -1;}#sk-container-id-1 div.sk-parallel-item {display: flex;flex-direction: column;z-index: 1;position: relative;background-color: white;}#sk-container-id-1 div.sk-parallel-item:first-child::after {align-self: flex-end;width: 50%;}#sk-container-id-1 div.sk-parallel-item:last-child::after {align-self: flex-start;width: 50%;}#sk-container-id-1 div.sk-parallel-item:only-child::after {width: 0;}#sk-container-id-1 div.sk-dashed-wrapped {border: 1px dashed gray;margin: 0 0.4em 0.5em 0.4em;box-sizing: border-box;padding-bottom: 0.4em;background-color: white;}#sk-container-id-1 div.sk-label label {font-family: monospace;font-weight: bold;display: inline-block;line-height: 1.2em;}#sk-container-id-1 div.sk-label-container {text-align: center;}#sk-container-id-1 div.sk-container {/* jupyter's `normalize.less` sets `[hidden] { display: none; }` but bootstrap.min.css set `[hidden] { display: none !important; }` so we also need the `!important` here to be able to override the default hidden behavior on the sphinx rendered scikit-learn.org. See: https://github.com/scikit-learn/scikit-learn/issues/21755 */display: inline-block !important;position: relative;}#sk-container-id-1 div.sk-text-repr-fallback {display: none;}</style><div id=\"sk-container-id-1\" class=\"sk-top-container\"><div class=\"sk-text-repr-fallback\"><pre>LogisticRegression()</pre><b>In a Jupyter environment, please rerun this cell to show the HTML representation or trust the notebook. <br />On GitHub, the HTML representation is unable to render, please try loading this page with nbviewer.org.</b></div><div class=\"sk-container\" hidden><div class=\"sk-item\"><div class=\"sk-estimator sk-toggleable\"><input class=\"sk-toggleable__control sk-hidden--visually\" id=\"sk-estimator-id-1\" type=\"checkbox\" checked><label for=\"sk-estimator-id-1\" class=\"sk-toggleable__label sk-toggleable__label-arrow\">LogisticRegression</label><div class=\"sk-toggleable__content\"><pre>LogisticRegression()</pre></div></div></div></div></div>"
      ],
      "text/plain": [
       "LogisticRegression()"
      ]
     },
     "execution_count": 24,
     "metadata": {},
     "output_type": "execute_result"
    }
   ],
   "source": [
    "from sklearn.linear_model import LogisticRegression\n",
    "classifier = LogisticRegression()\n",
    "classifier.fit(X_train, y_train)"
   ]
  },
  {
   "cell_type": "markdown",
   "id": "e47c8afc-6d69-40bb-af12-62f4f2c489ab",
   "metadata": {},
   "source": [
    "### Predicting the Test set results"
   ]
  },
  {
   "cell_type": "code",
   "execution_count": 26,
   "id": "f4f8491f-cf37-4ecb-86bb-864b50291dfd",
   "metadata": {},
   "outputs": [
    {
     "name": "stdout",
     "output_type": "stream",
     "text": [
      "[2 2 2 4 2 2 2 4 4 2 2 4 2 2 2 4 2 4 4 4 4 2 2 2 4 2 2 4 2 4 2 2 2 4 2 2 2\n",
      " 4 2 4 2 2 4 2 2 2 2 2 2 2 2 2 4 2 2 2 2 4 2 2 2 2 4 2 2 2 4 4 2 2 4 2 4 2\n",
      " 2 2 2 4 2 2 2 2 2 2 2 4 2 2 2 2 2 2 4 2 2 4 2 2 2 2 2 2 2 4 4 2 4 2 2 4 4\n",
      " 2 2 2 2 4 2 2 2 2 2 4 2 2 4 4 2 2 4 4 2 2 4 2 4 2 4 2 2 2]\n"
     ]
    }
   ],
   "source": [
    "y_pred = classifier.predict(X_test)\n",
    "print(y_pred)"
   ]
  },
  {
   "cell_type": "markdown",
   "id": "c0c9cc0f-b2dd-4570-809d-b96b5a2f08cb",
   "metadata": {},
   "source": [
    "### Making the Confusion Matrix"
   ]
  },
  {
   "cell_type": "code",
   "execution_count": 28,
   "id": "c1ea8ed0-dd18-4451-9223-6d9459a5fc09",
   "metadata": {},
   "outputs": [
    {
     "name": "stdout",
     "output_type": "stream",
     "text": [
      "[[94  1]\n",
      " [ 5 40]]\n"
     ]
    }
   ],
   "source": [
    "from sklearn.metrics import confusion_matrix\n",
    "cm = confusion_matrix(y_test, y_pred)\n",
    "print(cm)"
   ]
  },
  {
   "cell_type": "code",
   "execution_count": 29,
   "id": "ce587752-d784-4fa1-9a9e-be275c34706e",
   "metadata": {},
   "outputs": [
    {
     "data": {
      "image/png": "[encoded data removed]",
      "text/plain": [
       "<Figure size 600x600 with 2 Axes>"
      ]
     },
     "metadata": {},
     "output_type": "display_data"
    }
   ],
   "source": [
    "plt.figure(figsize=(6,6))\n",
    "sns.heatmap(cm, annot=True, fmt='d', cmap='Blues', \n",
    "            xticklabels=['Benign', 'Malignant'],\n",
    "            yticklabels=['Benign', 'Malignant'])\n",
    "plt.xlabel('Predicted')\n",
    "plt.ylabel('Actual')\n",
    "plt.title('Confusion Matrix')\n",
    "plt.show()"
   ]
  },
  {
   "cell_type": "markdown",
   "id": "c31848b5-30a2-431a-97ea-638321897f23",
   "metadata": {},
   "source": [
    "### Computing the accuracy with K-Fold Cross Validation"
   ]
  },
  {
   "cell_type": "code",
   "execution_count": 31,
   "id": "e71d1d02-4690-40c1-a4e3-4afb9f435434",
   "metadata": {},
   "outputs": [
    {
     "name": "stdout",
     "output_type": "stream",
     "text": [
      "Accuracies : 96.42%\n",
      "Standard Deviation : 1.97%\n"
     ]
    }
   ],
   "source": [
    "from sklearn.model_selection import cross_val_score\n",
    "accuracies = cross_val_score(estimator = classifier, X = X_train, y  = y_train, cv = 10)\n",
    "print(f'Accuracies : {accuracies.mean()*100:.2f}%')\n",
    "print(f'Standard Deviation : {accuracies.std()*100:.2f}%')"
   ]
  },
  {
   "cell_type": "markdown",
   "id": "ada99de8-9557-4111-8313-da6d58e3b2ff",
   "metadata": {},
   "source": [
    "### User Inputed data Breast Cancer Severity Prediction"
   ]
  },
  {
   "cell_type": "code",
   "execution_count": 33,
   "id": "88bb6248-25d7-4cff-baea-e5f6a500b916",
   "metadata": {},
   "outputs": [
    {
     "name": "stdout",
     "output_type": "stream",
     "text": [
      "\n",
      "=== Breast Cancer Severity Prediction ===\n",
      "Please enter the following details (1-10 scale):\n",
      "\n"
     ]
    },
    {
     "name": "stdin",
     "output_type": "stream",
     "text": [
      "Clump Thickness (1-10):  5\n",
      "Uniformity of Cell Size (1-10):  1\n",
      "Uniformity of Cell Shape (1-10):  1\n",
      "Marginal Adhesion (1-10):  1\n",
      "Single Epithelial Cell Size (1-10):  2\n",
      "Bare Nuclei (1-10):  1\n",
      "Bland Chromatin (1-10):  3\n",
      "Normal Nucleoli (1-10):  1\n",
      "Mitoses (1-10):  1\n"
     ]
    },
    {
     "name": "stdout",
     "output_type": "stream",
     "text": [
      "\n",
      "=== Prediction Results ===\n",
      "Prediction: Benign (Class 2)\n",
      "Confidence: 98.27%\n",
      "\n",
      "Note: This is a machine learning prediction, not a medical diagnosis.\n",
      "Please consult a healthcare professional for medical advice.\n"
     ]
    }
   ],
   "source": [
    "print(\"\"\"\n",
    "=== Breast Cancer Severity Prediction ===\n",
    "Please enter the following details (1-10 scale):\n",
    "\"\"\")\n",
    "\n",
    "features = [\n",
    "    'Clump Thickness',\n",
    "    'Uniformity of Cell Size',\n",
    "    'Uniformity of Cell Shape',\n",
    "    'Marginal Adhesion',\n",
    "    'Single Epithelial Cell Size',\n",
    "    'Bare Nuclei',\n",
    "    'Bland Chromatin',\n",
    "    'Normal Nucleoli',\n",
    "    'Mitoses'\n",
    "]\n",
    "\n",
    "user_input = []\n",
    "for feature in features:\n",
    "    while True:\n",
    "        try:\n",
    "            value = int(input(f\"{feature} (1-10): \"))\n",
    "            if 1 <= value <= 10:\n",
    "                user_input.append(value)\n",
    "                break\n",
    "            else:\n",
    "                print(\"Please enter a value between 1 and 10\")\n",
    "        except ValueError:\n",
    "            print(\"Please enter a valid integer\")\n",
    "\n",
    "user_data = np.array(user_input).reshape(1, -1)\n",
    "user_df = pd.DataFrame(user_data, columns=features)\n",
    "prediction = classifier.predict(user_df)\n",
    "probability = classifier.predict_proba(user_df)\n",
    "\n",
    "print(\"\\n=== Prediction Results ===\")\n",
    "if prediction[0] == 2:\n",
    "    print(\"Prediction: Benign (Class 2)\")\n",
    "else:\n",
    "    print(\"Prediction: Malignant (Class 4)\")\n",
    "    \n",
    "print(f\"Confidence: {np.max(probability)*100:.2f}%\")\n",
    "print(\"\\nNote: This is a machine learning prediction, not a medical diagnosis.\")\n",
    "print(\"Please consult a healthcare professional for medical advice.\")"
   ]
  }
 ],
 "metadata": {
  "kernelspec": {
   "display_name": "Python 3 (ipykernel)",
   "language": "python",
   "name": "python3"
  },
  "language_info": {
   "codemirror_mode": {
    "name": "ipython",
    "version": 3
   },
   "file_extension": ".py",
   "mimetype": "text/x-python",
   "name": "python",
   "nbconvert_exporter": "python",
   "pygments_lexer": "ipython3",
   "version": "3.11.7"
  }
 },
 "nbformat": 4,
 "nbformat_minor": 5
}
